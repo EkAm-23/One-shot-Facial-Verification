{
  "cells": [
    {
      "cell_type": "markdown",
      "metadata": {
        "id": "A77dFsxaMAek"
      },
      "source": [
        "#Setting up\n"
      ]
    },
    {
      "cell_type": "markdown",
      "metadata": {
        "id": "esTc43LkMPZp"
      },
      "source": [
        "Importing necessary standard libraries and tensorflow functional APIs"
      ]
    },
    {
      "cell_type": "code",
      "execution_count": 1,
      "metadata": {
        "id": "9g-gb2sON9RO"
      },
      "outputs": [],
      "source": [
        "#standard libraries\n",
        "import cv2\n",
        "import os\n",
        "import random\n",
        "import numpy as np\n",
        "import matplotlib.pyplot as plt\n",
        "import zipfile"
      ]
    },
    {
      "cell_type": "code",
      "execution_count": 2,
      "metadata": {
        "id": "u26E3Bs3N_Or"
      },
      "outputs": [],
      "source": [
        "#tensorflow dependencies\n",
        "from tensorflow.keras.models import Model\n",
        "from tensorflow.keras.layers import Layer, Conv2D, Dense, MaxPooling2D, Input, Flatten, Dropout\n",
        "import tensorflow as tf\n"
      ]
    },
    {
      "cell_type": "markdown",
      "metadata": {
        "id": "hemOlcvMMlqo"
      },
      "source": [
        "Configuring GPU"
      ]
    },
    {
      "cell_type": "code",
      "execution_count": 3,
      "metadata": {
        "colab": {
          "base_uri": "https://localhost:8080/"
        },
        "id": "BucaLmcW6x73",
        "outputId": "f728949a-d8c0-4bb8-90a8-38aa45451314"
      },
      "outputs": [
        {
          "output_type": "stream",
          "name": "stdout",
          "text": [
            "PhysicalDevice(name='/physical_device:GPU:0', device_type='GPU')\n"
          ]
        }
      ],
      "source": [
        "gpus=tf.config.experimental.list_physical_devices('GPU')\n",
        "for gpu in gpus:\n",
        "    tf.config.experimental.set_memory_growth(gpu, True)\n",
        "for gpu in gpus:\n",
        "    print(gpu)"
      ]
    },
    {
      "cell_type": "markdown",
      "metadata": {
        "id": "604HMgdNMD2I"
      },
      "source": [
        "# Loading and Preprocessing images"
      ]
    },
    {
      "cell_type": "code",
      "execution_count": 4,
      "metadata": {
        "colab": {
          "base_uri": "https://localhost:8080/"
        },
        "id": "ZJhM4FIAfpc1",
        "outputId": "6c0e2033-425f-40bb-be74-d5a482a230e3"
      },
      "outputs": [
        {
          "output_type": "execute_result",
          "data": {
            "text/plain": [
              "['anchor_faces']"
            ]
          },
          "metadata": {},
          "execution_count": 4
        }
      ],
      "source": [
        "#EXTRACTING FROM ZIP FILES\n",
        "zip_path = \"anchor_faces.zip\"\n",
        "extract_path = \"./anchors\"\n",
        "\n",
        "with zipfile.ZipFile(zip_path, 'r') as zip_ref:\n",
        "    zip_ref.extractall(extract_path)\n",
        "\n",
        "# Check files\n",
        "os.listdir(extract_path)"
      ]
    },
    {
      "cell_type": "code",
      "execution_count": 5,
      "metadata": {
        "colab": {
          "base_uri": "https://localhost:8080/"
        },
        "id": "si8z3NGGgg96",
        "outputId": "cdbb9909-530b-4b55-bd14-75c5f8446afb"
      },
      "outputs": [
        {
          "output_type": "execute_result",
          "data": {
            "text/plain": [
              "['positive_faces', '__MACOSX']"
            ]
          },
          "metadata": {},
          "execution_count": 5
        }
      ],
      "source": [
        "zip_path = \"positive_faces.zip\"\n",
        "extract_path = \"./positives\"\n",
        "\n",
        "with zipfile.ZipFile(zip_path, 'r') as zip_ref:\n",
        "    zip_ref.extractall(extract_path)\n",
        "\n",
        "# Check files\n",
        "os.listdir(extract_path)"
      ]
    },
    {
      "cell_type": "code",
      "execution_count": 6,
      "metadata": {
        "colab": {
          "base_uri": "https://localhost:8080/"
        },
        "id": "2X6j0rL7gmri",
        "outputId": "62247084-8189-49bc-8c46-9766411c027b"
      },
      "outputs": [
        {
          "output_type": "execute_result",
          "data": {
            "text/plain": [
              "['__MACOSX', 'negative_faces']"
            ]
          },
          "metadata": {},
          "execution_count": 6
        }
      ],
      "source": [
        "zip_path = \"negative_faces.zip\"\n",
        "extract_path = \"./negatives\"\n",
        "\n",
        "with zipfile.ZipFile(zip_path, 'r') as zip_ref:\n",
        "    zip_ref.extractall(extract_path)\n",
        "\n",
        "# Check files\n",
        "os.listdir(extract_path)"
      ]
    },
    {
      "cell_type": "code",
      "execution_count": 7,
      "metadata": {
        "id": "szSEB04GLtS4"
      },
      "outputs": [],
      "source": [
        "#SETTING UP PATHS TO DATA FOLDERS\n",
        "POS_PATH=os.path.join('./positives/positive_faces')\n",
        "NEG_PATH=os.path.join('./negatives/negative_faces')\n",
        "ANC_PATH=os.path.join('./anchors/anchor_faces')"
      ]
    },
    {
      "cell_type": "code",
      "execution_count": 8,
      "metadata": {
        "id": "sbG9YD9JNHub"
      },
      "outputs": [],
      "source": [
        "#GET IMAGE FILES FROM EACH OF THESE DIRECTORIES\n",
        "anchor = tf.data.Dataset.list_files(ANC_PATH+'/*.jpg').take(2028)\n",
        "positive = tf.data.Dataset.list_files(POS_PATH+'/*.jpg').take(2028)\n",
        "negative = tf.data.Dataset.list_files(NEG_PATH+'/*.jpg').take(2028)"
      ]
    },
    {
      "cell_type": "markdown",
      "metadata": {
        "id": "gSJUuNdyBSGe"
      },
      "source": [
        "## Creating triplet dataset"
      ]
    },
    {
      "cell_type": "code",
      "execution_count": 9,
      "metadata": {
        "id": "wm_sWLVUBbi-"
      },
      "outputs": [],
      "source": [
        "#ZIP THEM TOGETHER\n",
        "data_triplets = tf.data.Dataset.zip((anchor, positive,negative))"
      ]
    },
    {
      "cell_type": "code",
      "execution_count": 10,
      "metadata": {
        "id": "WIAin1lVPRdA"
      },
      "outputs": [],
      "source": [
        "#PREPROCESSING:SCALING AND RESIZING\n",
        "\n",
        "def preprocess(file_path):\n",
        "    byte_img = tf.io.read_file(file_path)\n",
        "    img = tf.io.decode_jpeg(byte_img)\n",
        "    img = tf.image.resize(img, (100,100))\n",
        "    img = img / 255.0\n",
        "    return img\n",
        "\n",
        "def preprocess_triplet(anchor_path, positive_path, negative_path):\n",
        "    return (preprocess(anchor_path), preprocess(positive_path), preprocess(negative_path))\n"
      ]
    },
    {
      "cell_type": "code",
      "execution_count": 11,
      "metadata": {
        "id": "ydbux6FCSqyA"
      },
      "outputs": [],
      "source": [
        "data_triplets = data_triplets.map(preprocess_triplet, num_parallel_calls=tf.data.AUTOTUNE)\n",
        "data_triplets.cache()\n",
        "data_triplets=data_triplets.shuffle(buffer_size=1024)"
      ]
    },
    {
      "cell_type": "code",
      "execution_count": 12,
      "metadata": {
        "id": "fzcmgDWsSWMx"
      },
      "outputs": [],
      "source": [
        "#SPLITTING IN TRAIN AND TEST SETS\n",
        "train_data=data_triplets.take(round(len(data_triplets)*0.7))\n",
        "train_data=train_data.batch(32)\n",
        "train_data=train_data.prefetch(tf.data.AUTOTUNE)\n",
        "\n",
        "test_data=data_triplets.skip(round(len(data_triplets)*0.7))\n",
        "test_data=test_data.take(round(len(data_triplets)*0.3))\n",
        "test_data=test_data.batch(16)\n",
        "test_data=test_data.prefetch(tf.data.AUTOTUNE)\n"
      ]
    },
    {
      "cell_type": "markdown",
      "metadata": {
        "id": "-eXEdDT6Mz_T"
      },
      "source": [
        "# Creating the Neural Network Model"
      ]
    },
    {
      "cell_type": "code",
      "execution_count": 13,
      "metadata": {
        "id": "MZ-AciqY6_X_"
      },
      "outputs": [],
      "source": [
        "#BUILDING THE EMBEDDING ARCHITECTURE\n",
        "\n",
        "#convolution and max pooling layers, used to encode the raw image inputs, as specified in the Siamese neural networks resesarch paper\n",
        "def make_embedding():\n",
        "    inp = Input(shape=(100,100,3))\n",
        "\n",
        "    #first block\n",
        "    c1 = Conv2D(64, (10,10), activation='relu')(inp)\n",
        "    m1 = MaxPooling2D(64, (2,2), padding='same')(c1)\n",
        "\n",
        "    #second block\n",
        "    c2 = Conv2D(128, (7,7), activation='relu')(m1)\n",
        "    c2 = Dropout(0.2)(c2)\n",
        "    m2 = MaxPooling2D(64, (2,2), padding='same')(c2)\n",
        "\n",
        "    #third block\n",
        "    c3 = Conv2D(128, (4,4), activation='relu')(m2)\n",
        "    m3 = MaxPooling2D(64, (2,2), padding='same')(c3)\n",
        "\n",
        "    #final embedding block\n",
        "    c4 = Conv2D(256, (4,4), activation='relu')(m3)\n",
        "    f1 = Flatten()(c4)\n",
        "    d1 = Dense(4096, activation='sigmoid')(f1)\n",
        "\n",
        "    return Model(inputs=inp, outputs=d1)"
      ]
    },
    {
      "cell_type": "code",
      "execution_count": 14,
      "metadata": {
        "id": "6gEwi6XX7qu4"
      },
      "outputs": [],
      "source": [
        "embedding_model=make_embedding()"
      ]
    },
    {
      "cell_type": "code",
      "execution_count": 15,
      "metadata": {
        "colab": {
          "base_uri": "https://localhost:8080/",
          "height": 481
        },
        "id": "bVKJQ39U7sNY",
        "outputId": "e9b29794-f65a-4e84-bbf8-f04547f6b2ce"
      },
      "outputs": [
        {
          "output_type": "display_data",
          "data": {
            "text/plain": [
              "\u001b[1mModel: \"functional\"\u001b[0m\n"
            ],
            "text/html": [
              "<pre style=\"white-space:pre;overflow-x:auto;line-height:normal;font-family:Menlo,'DejaVu Sans Mono',consolas,'Courier New',monospace\"><span style=\"font-weight: bold\">Model: \"functional\"</span>\n",
              "</pre>\n"
            ]
          },
          "metadata": {}
        },
        {
          "output_type": "display_data",
          "data": {
            "text/plain": [
              "┏━━━━━━━━━━━━━━━━━━━━━━━━━━━━━━━━━┳━━━━━━━━━━━━━━━━━━━━━━━━┳━━━━━━━━━━━━━━━┓\n",
              "┃\u001b[1m \u001b[0m\u001b[1mLayer (type)                   \u001b[0m\u001b[1m \u001b[0m┃\u001b[1m \u001b[0m\u001b[1mOutput Shape          \u001b[0m\u001b[1m \u001b[0m┃\u001b[1m \u001b[0m\u001b[1m      Param #\u001b[0m\u001b[1m \u001b[0m┃\n",
              "┡━━━━━━━━━━━━━━━━━━━━━━━━━━━━━━━━━╇━━━━━━━━━━━━━━━━━━━━━━━━╇━━━━━━━━━━━━━━━┩\n",
              "│ input_layer (\u001b[38;5;33mInputLayer\u001b[0m)        │ (\u001b[38;5;45mNone\u001b[0m, \u001b[38;5;34m100\u001b[0m, \u001b[38;5;34m100\u001b[0m, \u001b[38;5;34m3\u001b[0m)    │             \u001b[38;5;34m0\u001b[0m │\n",
              "├─────────────────────────────────┼────────────────────────┼───────────────┤\n",
              "│ conv2d (\u001b[38;5;33mConv2D\u001b[0m)                 │ (\u001b[38;5;45mNone\u001b[0m, \u001b[38;5;34m91\u001b[0m, \u001b[38;5;34m91\u001b[0m, \u001b[38;5;34m64\u001b[0m)     │        \u001b[38;5;34m19,264\u001b[0m │\n",
              "├─────────────────────────────────┼────────────────────────┼───────────────┤\n",
              "│ max_pooling2d (\u001b[38;5;33mMaxPooling2D\u001b[0m)    │ (\u001b[38;5;45mNone\u001b[0m, \u001b[38;5;34m46\u001b[0m, \u001b[38;5;34m46\u001b[0m, \u001b[38;5;34m64\u001b[0m)     │             \u001b[38;5;34m0\u001b[0m │\n",
              "├─────────────────────────────────┼────────────────────────┼───────────────┤\n",
              "│ conv2d_1 (\u001b[38;5;33mConv2D\u001b[0m)               │ (\u001b[38;5;45mNone\u001b[0m, \u001b[38;5;34m40\u001b[0m, \u001b[38;5;34m40\u001b[0m, \u001b[38;5;34m128\u001b[0m)    │       \u001b[38;5;34m401,536\u001b[0m │\n",
              "├─────────────────────────────────┼────────────────────────┼───────────────┤\n",
              "│ dropout (\u001b[38;5;33mDropout\u001b[0m)               │ (\u001b[38;5;45mNone\u001b[0m, \u001b[38;5;34m40\u001b[0m, \u001b[38;5;34m40\u001b[0m, \u001b[38;5;34m128\u001b[0m)    │             \u001b[38;5;34m0\u001b[0m │\n",
              "├─────────────────────────────────┼────────────────────────┼───────────────┤\n",
              "│ max_pooling2d_1 (\u001b[38;5;33mMaxPooling2D\u001b[0m)  │ (\u001b[38;5;45mNone\u001b[0m, \u001b[38;5;34m20\u001b[0m, \u001b[38;5;34m20\u001b[0m, \u001b[38;5;34m128\u001b[0m)    │             \u001b[38;5;34m0\u001b[0m │\n",
              "├─────────────────────────────────┼────────────────────────┼───────────────┤\n",
              "│ conv2d_2 (\u001b[38;5;33mConv2D\u001b[0m)               │ (\u001b[38;5;45mNone\u001b[0m, \u001b[38;5;34m17\u001b[0m, \u001b[38;5;34m17\u001b[0m, \u001b[38;5;34m128\u001b[0m)    │       \u001b[38;5;34m262,272\u001b[0m │\n",
              "├─────────────────────────────────┼────────────────────────┼───────────────┤\n",
              "│ max_pooling2d_2 (\u001b[38;5;33mMaxPooling2D\u001b[0m)  │ (\u001b[38;5;45mNone\u001b[0m, \u001b[38;5;34m9\u001b[0m, \u001b[38;5;34m9\u001b[0m, \u001b[38;5;34m128\u001b[0m)      │             \u001b[38;5;34m0\u001b[0m │\n",
              "├─────────────────────────────────┼────────────────────────┼───────────────┤\n",
              "│ conv2d_3 (\u001b[38;5;33mConv2D\u001b[0m)               │ (\u001b[38;5;45mNone\u001b[0m, \u001b[38;5;34m6\u001b[0m, \u001b[38;5;34m6\u001b[0m, \u001b[38;5;34m256\u001b[0m)      │       \u001b[38;5;34m524,544\u001b[0m │\n",
              "├─────────────────────────────────┼────────────────────────┼───────────────┤\n",
              "│ flatten (\u001b[38;5;33mFlatten\u001b[0m)               │ (\u001b[38;5;45mNone\u001b[0m, \u001b[38;5;34m9216\u001b[0m)           │             \u001b[38;5;34m0\u001b[0m │\n",
              "├─────────────────────────────────┼────────────────────────┼───────────────┤\n",
              "│ dense (\u001b[38;5;33mDense\u001b[0m)                   │ (\u001b[38;5;45mNone\u001b[0m, \u001b[38;5;34m4096\u001b[0m)           │    \u001b[38;5;34m37,752,832\u001b[0m │\n",
              "└─────────────────────────────────┴────────────────────────┴───────────────┘\n"
            ],
            "text/html": [
              "<pre style=\"white-space:pre;overflow-x:auto;line-height:normal;font-family:Menlo,'DejaVu Sans Mono',consolas,'Courier New',monospace\">┏━━━━━━━━━━━━━━━━━━━━━━━━━━━━━━━━━┳━━━━━━━━━━━━━━━━━━━━━━━━┳━━━━━━━━━━━━━━━┓\n",
              "┃<span style=\"font-weight: bold\"> Layer (type)                    </span>┃<span style=\"font-weight: bold\"> Output Shape           </span>┃<span style=\"font-weight: bold\">       Param # </span>┃\n",
              "┡━━━━━━━━━━━━━━━━━━━━━━━━━━━━━━━━━╇━━━━━━━━━━━━━━━━━━━━━━━━╇━━━━━━━━━━━━━━━┩\n",
              "│ input_layer (<span style=\"color: #0087ff; text-decoration-color: #0087ff\">InputLayer</span>)        │ (<span style=\"color: #00d7ff; text-decoration-color: #00d7ff\">None</span>, <span style=\"color: #00af00; text-decoration-color: #00af00\">100</span>, <span style=\"color: #00af00; text-decoration-color: #00af00\">100</span>, <span style=\"color: #00af00; text-decoration-color: #00af00\">3</span>)    │             <span style=\"color: #00af00; text-decoration-color: #00af00\">0</span> │\n",
              "├─────────────────────────────────┼────────────────────────┼───────────────┤\n",
              "│ conv2d (<span style=\"color: #0087ff; text-decoration-color: #0087ff\">Conv2D</span>)                 │ (<span style=\"color: #00d7ff; text-decoration-color: #00d7ff\">None</span>, <span style=\"color: #00af00; text-decoration-color: #00af00\">91</span>, <span style=\"color: #00af00; text-decoration-color: #00af00\">91</span>, <span style=\"color: #00af00; text-decoration-color: #00af00\">64</span>)     │        <span style=\"color: #00af00; text-decoration-color: #00af00\">19,264</span> │\n",
              "├─────────────────────────────────┼────────────────────────┼───────────────┤\n",
              "│ max_pooling2d (<span style=\"color: #0087ff; text-decoration-color: #0087ff\">MaxPooling2D</span>)    │ (<span style=\"color: #00d7ff; text-decoration-color: #00d7ff\">None</span>, <span style=\"color: #00af00; text-decoration-color: #00af00\">46</span>, <span style=\"color: #00af00; text-decoration-color: #00af00\">46</span>, <span style=\"color: #00af00; text-decoration-color: #00af00\">64</span>)     │             <span style=\"color: #00af00; text-decoration-color: #00af00\">0</span> │\n",
              "├─────────────────────────────────┼────────────────────────┼───────────────┤\n",
              "│ conv2d_1 (<span style=\"color: #0087ff; text-decoration-color: #0087ff\">Conv2D</span>)               │ (<span style=\"color: #00d7ff; text-decoration-color: #00d7ff\">None</span>, <span style=\"color: #00af00; text-decoration-color: #00af00\">40</span>, <span style=\"color: #00af00; text-decoration-color: #00af00\">40</span>, <span style=\"color: #00af00; text-decoration-color: #00af00\">128</span>)    │       <span style=\"color: #00af00; text-decoration-color: #00af00\">401,536</span> │\n",
              "├─────────────────────────────────┼────────────────────────┼───────────────┤\n",
              "│ dropout (<span style=\"color: #0087ff; text-decoration-color: #0087ff\">Dropout</span>)               │ (<span style=\"color: #00d7ff; text-decoration-color: #00d7ff\">None</span>, <span style=\"color: #00af00; text-decoration-color: #00af00\">40</span>, <span style=\"color: #00af00; text-decoration-color: #00af00\">40</span>, <span style=\"color: #00af00; text-decoration-color: #00af00\">128</span>)    │             <span style=\"color: #00af00; text-decoration-color: #00af00\">0</span> │\n",
              "├─────────────────────────────────┼────────────────────────┼───────────────┤\n",
              "│ max_pooling2d_1 (<span style=\"color: #0087ff; text-decoration-color: #0087ff\">MaxPooling2D</span>)  │ (<span style=\"color: #00d7ff; text-decoration-color: #00d7ff\">None</span>, <span style=\"color: #00af00; text-decoration-color: #00af00\">20</span>, <span style=\"color: #00af00; text-decoration-color: #00af00\">20</span>, <span style=\"color: #00af00; text-decoration-color: #00af00\">128</span>)    │             <span style=\"color: #00af00; text-decoration-color: #00af00\">0</span> │\n",
              "├─────────────────────────────────┼────────────────────────┼───────────────┤\n",
              "│ conv2d_2 (<span style=\"color: #0087ff; text-decoration-color: #0087ff\">Conv2D</span>)               │ (<span style=\"color: #00d7ff; text-decoration-color: #00d7ff\">None</span>, <span style=\"color: #00af00; text-decoration-color: #00af00\">17</span>, <span style=\"color: #00af00; text-decoration-color: #00af00\">17</span>, <span style=\"color: #00af00; text-decoration-color: #00af00\">128</span>)    │       <span style=\"color: #00af00; text-decoration-color: #00af00\">262,272</span> │\n",
              "├─────────────────────────────────┼────────────────────────┼───────────────┤\n",
              "│ max_pooling2d_2 (<span style=\"color: #0087ff; text-decoration-color: #0087ff\">MaxPooling2D</span>)  │ (<span style=\"color: #00d7ff; text-decoration-color: #00d7ff\">None</span>, <span style=\"color: #00af00; text-decoration-color: #00af00\">9</span>, <span style=\"color: #00af00; text-decoration-color: #00af00\">9</span>, <span style=\"color: #00af00; text-decoration-color: #00af00\">128</span>)      │             <span style=\"color: #00af00; text-decoration-color: #00af00\">0</span> │\n",
              "├─────────────────────────────────┼────────────────────────┼───────────────┤\n",
              "│ conv2d_3 (<span style=\"color: #0087ff; text-decoration-color: #0087ff\">Conv2D</span>)               │ (<span style=\"color: #00d7ff; text-decoration-color: #00d7ff\">None</span>, <span style=\"color: #00af00; text-decoration-color: #00af00\">6</span>, <span style=\"color: #00af00; text-decoration-color: #00af00\">6</span>, <span style=\"color: #00af00; text-decoration-color: #00af00\">256</span>)      │       <span style=\"color: #00af00; text-decoration-color: #00af00\">524,544</span> │\n",
              "├─────────────────────────────────┼────────────────────────┼───────────────┤\n",
              "│ flatten (<span style=\"color: #0087ff; text-decoration-color: #0087ff\">Flatten</span>)               │ (<span style=\"color: #00d7ff; text-decoration-color: #00d7ff\">None</span>, <span style=\"color: #00af00; text-decoration-color: #00af00\">9216</span>)           │             <span style=\"color: #00af00; text-decoration-color: #00af00\">0</span> │\n",
              "├─────────────────────────────────┼────────────────────────┼───────────────┤\n",
              "│ dense (<span style=\"color: #0087ff; text-decoration-color: #0087ff\">Dense</span>)                   │ (<span style=\"color: #00d7ff; text-decoration-color: #00d7ff\">None</span>, <span style=\"color: #00af00; text-decoration-color: #00af00\">4096</span>)           │    <span style=\"color: #00af00; text-decoration-color: #00af00\">37,752,832</span> │\n",
              "└─────────────────────────────────┴────────────────────────┴───────────────┘\n",
              "</pre>\n"
            ]
          },
          "metadata": {}
        },
        {
          "output_type": "display_data",
          "data": {
            "text/plain": [
              "\u001b[1m Total params: \u001b[0m\u001b[38;5;34m38,960,448\u001b[0m (148.62 MB)\n"
            ],
            "text/html": [
              "<pre style=\"white-space:pre;overflow-x:auto;line-height:normal;font-family:Menlo,'DejaVu Sans Mono',consolas,'Courier New',monospace\"><span style=\"font-weight: bold\"> Total params: </span><span style=\"color: #00af00; text-decoration-color: #00af00\">38,960,448</span> (148.62 MB)\n",
              "</pre>\n"
            ]
          },
          "metadata": {}
        },
        {
          "output_type": "display_data",
          "data": {
            "text/plain": [
              "\u001b[1m Trainable params: \u001b[0m\u001b[38;5;34m38,960,448\u001b[0m (148.62 MB)\n"
            ],
            "text/html": [
              "<pre style=\"white-space:pre;overflow-x:auto;line-height:normal;font-family:Menlo,'DejaVu Sans Mono',consolas,'Courier New',monospace\"><span style=\"font-weight: bold\"> Trainable params: </span><span style=\"color: #00af00; text-decoration-color: #00af00\">38,960,448</span> (148.62 MB)\n",
              "</pre>\n"
            ]
          },
          "metadata": {}
        },
        {
          "output_type": "display_data",
          "data": {
            "text/plain": [
              "\u001b[1m Non-trainable params: \u001b[0m\u001b[38;5;34m0\u001b[0m (0.00 B)\n"
            ],
            "text/html": [
              "<pre style=\"white-space:pre;overflow-x:auto;line-height:normal;font-family:Menlo,'DejaVu Sans Mono',consolas,'Courier New',monospace\"><span style=\"font-weight: bold\"> Non-trainable params: </span><span style=\"color: #00af00; text-decoration-color: #00af00\">0</span> (0.00 B)\n",
              "</pre>\n"
            ]
          },
          "metadata": {}
        }
      ],
      "source": [
        "embedding_model.summary()"
      ]
    },
    {
      "cell_type": "markdown",
      "metadata": {
        "id": "GObM0FuJ7ti-"
      },
      "source": [
        "# Training"
      ]
    },
    {
      "cell_type": "markdown",
      "metadata": {
        "id": "mGqNqoHyWqeK"
      },
      "source": [
        "### Triplet Loss"
      ]
    },
    {
      "cell_type": "code",
      "execution_count": 16,
      "metadata": {
        "id": "5t2BUugzaH-F"
      },
      "outputs": [],
      "source": [
        "margin = 0.55\n",
        "\n",
        "def triplet_loss(anchor, positive, negative):\n",
        "    pos_dist = tf.reduce_sum(tf.square(anchor - positive), axis=1)\n",
        "    neg_dist = tf.reduce_sum(tf.square(anchor - negative), axis=1)\n",
        "    basic_loss = pos_dist - neg_dist + margin\n",
        "    loss = tf.reduce_mean(tf.maximum(basic_loss, 0.0))\n",
        "    return loss"
      ]
    },
    {
      "cell_type": "code",
      "execution_count": 17,
      "metadata": {
        "id": "RAVtc2n3Wvae"
      },
      "outputs": [],
      "source": [
        "optimizer = tf.keras.optimizers.Adam(1e-4)"
      ]
    },
    {
      "cell_type": "code",
      "execution_count": 18,
      "metadata": {
        "id": "qDyX5HrpJt1u"
      },
      "outputs": [],
      "source": [
        "#TRAINING FUNCTION FOR ONE BATCH\n",
        "@tf.function\n",
        "def train_step(anchor, positive, negative):\n",
        "    with tf.GradientTape() as tape:\n",
        "        anchor_emb = embedding_model(anchor, training=True)\n",
        "        positive_emb = embedding_model(positive, training=True)\n",
        "        negative_emb = embedding_model(negative, training=True)\n",
        "\n",
        "        loss = triplet_loss(anchor_emb, positive_emb, negative_emb)\n",
        "\n",
        "    gradients = tape.gradient(loss, embedding_model.trainable_variables)\n",
        "    optimizer.apply_gradients(zip(gradients, embedding_model.trainable_variables))\n",
        "    return loss"
      ]
    },
    {
      "cell_type": "code",
      "execution_count": 19,
      "metadata": {
        "id": "iEOADWD3KUwc"
      },
      "outputs": [],
      "source": [
        "#COMPLETE TRAINING FUNCTION\n",
        "def train_model(epochs):\n",
        "    loss_history = []\n",
        "\n",
        "    for epoch in range(1, epochs+1):\n",
        "        epoch_loss = []\n",
        "        print(f\"Epoch {epoch}/{epochs}\")\n",
        "        for batch in train_data:\n",
        "            anc, pos, neg = batch\n",
        "            loss = train_step(anc, pos, neg)\n",
        "            epoch_loss.append(loss.numpy())\n",
        "\n",
        "        mean_loss = np.mean(epoch_loss)\n",
        "        loss_history.append(mean_loss)\n",
        "        print(f\"Loss: {mean_loss:.4f}\")\n",
        "\n",
        "    return loss_history"
      ]
    },
    {
      "cell_type": "code",
      "execution_count": 20,
      "metadata": {
        "colab": {
          "base_uri": "https://localhost:8080/",
          "height": 1000
        },
        "id": "UUmrLz5JMDF1",
        "outputId": "8a171179-4887-4f83-aae6-d30d48202407"
      },
      "outputs": [
        {
          "output_type": "stream",
          "name": "stdout",
          "text": [
            "Epoch 1/26\n",
            "Loss: 0.1501\n",
            "Epoch 2/26\n",
            "Loss: 0.0568\n",
            "Epoch 3/26\n",
            "Loss: 0.0184\n",
            "Epoch 4/26\n",
            "Loss: 0.0225\n",
            "Epoch 5/26\n",
            "Loss: 0.0167\n",
            "Epoch 6/26\n",
            "Loss: 0.0148\n",
            "Epoch 7/26\n",
            "Loss: 0.0278\n",
            "Epoch 8/26\n",
            "Loss: 0.0153\n",
            "Epoch 9/26\n",
            "Loss: 0.0255\n",
            "Epoch 10/26\n",
            "Loss: 0.0336\n",
            "Epoch 11/26\n",
            "Loss: 0.0238\n",
            "Epoch 12/26\n",
            "Loss: 0.0132\n",
            "Epoch 13/26\n",
            "Loss: 0.0178\n",
            "Epoch 14/26\n",
            "Loss: 0.0168\n",
            "Epoch 15/26\n",
            "Loss: 0.0083\n",
            "Epoch 16/26\n",
            "Loss: 0.0129\n",
            "Epoch 17/26\n",
            "Loss: 0.0188\n",
            "Epoch 18/26\n",
            "Loss: 0.0322\n",
            "Epoch 19/26\n",
            "Loss: 0.0283\n",
            "Epoch 20/26\n",
            "Loss: 0.0082\n",
            "Epoch 21/26\n",
            "Loss: 0.0154\n",
            "Epoch 22/26\n",
            "Loss: 0.0204\n",
            "Epoch 23/26\n",
            "Loss: 0.0144\n",
            "Epoch 24/26\n",
            "Loss: 0.0101\n",
            "Epoch 25/26\n",
            "Loss: 0.0149\n",
            "Epoch 26/26\n",
            "Loss: 0.0063\n"
          ]
        },
        {
          "output_type": "display_data",
          "data": {
            "text/plain": [
              "<Figure size 640x480 with 1 Axes>"
            ],
            "image/png": "[encoded data removed]"
          },
          "metadata": {}
        }
      ],
      "source": [
        "#TRAINING\n",
        "loss_history = train_model(epochs=26)\n",
        "\n",
        "# Plot loss curve\n",
        "plt.plot(loss_history)\n",
        "plt.xlabel(\"Epoch\")\n",
        "plt.ylabel(\"Loss\")\n",
        "plt.title(\"Training Loss\")\n",
        "plt.show()\n"
      ]
    },
    {
      "cell_type": "markdown",
      "metadata": {
        "id": "jLQ8u0XuXDFI"
      },
      "source": [
        "#Testing the model\n"
      ]
    },
    {
      "cell_type": "code",
      "execution_count": 21,
      "metadata": {
        "id": "j832OGmXMSXk"
      },
      "outputs": [],
      "source": [
        "# Import metric calculations\n",
        "from sklearn.metrics import accuracy_score, precision_score, recall_score, f1_score"
      ]
    },
    {
      "cell_type": "code",
      "source": [
        "#loading previously trained model for testing\n",
        "embedding_model = tf.keras.models.load_model('embedding_model.keras')"
      ],
      "metadata": {
        "id": "fxB5lmP4LuXt"
      },
      "execution_count": 30,
      "outputs": []
    },
    {
      "cell_type": "code",
      "source": [
        "#TUNING THE THRESHOLD BY VISUALIZING THE POSITIVE AND NEGATIVE DISTANCES\n",
        "pos_dists = []\n",
        "neg_dists = []\n",
        "\n",
        "for batch in test_data:\n",
        "    anc, pos, neg = batch\n",
        "    anc_emb = embedding_model(anc)\n",
        "    pos_emb = embedding_model(pos)\n",
        "    neg_emb = embedding_model(neg)\n",
        "\n",
        "    pos_dist = tf.norm(anc_emb - pos_emb, axis=1)\n",
        "    neg_dist = tf.norm(anc_emb - neg_emb, axis=1)\n",
        "\n",
        "    pos_dists.extend(pos_dist.numpy())\n",
        "    neg_dists.extend(neg_dist.numpy())\n",
        "\n",
        "plt.hist(pos_dists, bins=50, label=\"Positive Distances\", alpha=0.6)\n",
        "plt.hist(neg_dists, bins=50, label=\"Negative Distances\", alpha=0.6)\n",
        "plt.legend()\n",
        "plt.show()\n"
      ],
      "metadata": {
        "colab": {
          "base_uri": "https://localhost:8080/",
          "height": 430
        },
        "id": "_unGwl5-gsgl",
        "outputId": "ee7ae313-60db-4364-8350-de0cd5f123d7"
      },
      "execution_count": 31,
      "outputs": [
        {
          "output_type": "display_data",
          "data": {
            "text/plain": [
              "<Figure size 640x480 with 1 Axes>"
            ],
            "image/png": "[encoded data removed]"
          },
          "metadata": {}
        }
      ]
    },
    {
      "cell_type": "code",
      "execution_count": 36,
      "metadata": {
        "colab": {
          "base_uri": "https://localhost:8080/"
        },
        "id": "hsol_J7jUZ7i",
        "outputId": "f823e2a6-3ab7-4131-b328-2365dcc86ab2"
      },
      "outputs": [
        {
          "output_type": "stream",
          "name": "stdout",
          "text": [
            "Accuracy: 0.9515\n",
            "Precision: 0.9893\n",
            "Recall: 0.9128\n",
            "F1 Score: 0.9495\n"
          ]
        }
      ],
      "source": [
        "#TESTING FUNCTION\n",
        "def test_model(test_data, threshold=0.5):\n",
        "    y_true = []\n",
        "    y_pred = []\n",
        "\n",
        "    for batch in test_data:\n",
        "        anc, pos, neg = batch\n",
        "\n",
        "        anc_emb = embedding_model(anc)\n",
        "        pos_emb = embedding_model(pos)\n",
        "        neg_emb = embedding_model(neg)\n",
        "\n",
        "        # Positive pair distances\n",
        "        pos_dist = tf.norm(anc_emb - pos_emb, axis=1)\n",
        "        pos_pred = pos_dist < threshold\n",
        "\n",
        "        y_true.extend([1]*len(pos_pred))\n",
        "        y_pred.extend(pos_pred.numpy())\n",
        "\n",
        "        # Negative pair distances\n",
        "        neg_dist = tf.norm(anc_emb - neg_emb, axis=1)\n",
        "        neg_pred = neg_dist < threshold\n",
        "\n",
        "        y_true.extend([0]*len(neg_pred))\n",
        "        y_pred.extend(neg_pred.numpy())\n",
        "\n",
        "    acc = accuracy_score(y_true, y_pred)\n",
        "    prec = precision_score(y_true, y_pred)\n",
        "    rec = recall_score(y_true, y_pred)\n",
        "    f1 = f1_score(y_true, y_pred)\n",
        "\n",
        "    print(f\"Accuracy: {acc:.4f}\")\n",
        "    print(f\"Precision: {prec:.4f}\")\n",
        "    print(f\"Recall: {rec:.4f}\")\n",
        "    print(f\"F1 Score: {f1:.4f}\")\n",
        "\n",
        "test_model(test_data, threshold=0.8)\n"
      ]
    },
    {
      "cell_type": "markdown",
      "metadata": {
        "id": "iFj2W3-DfPPR"
      },
      "source": [
        "Saving the model"
      ]
    },
    {
      "cell_type": "code",
      "execution_count": 24,
      "metadata": {
        "id": "BQnU-D8vZOWy"
      },
      "outputs": [],
      "source": [
        "embedding_model.save('embedding_model_1.keras')"
      ]
    },
    {
      "cell_type": "code",
      "execution_count": 24,
      "metadata": {
        "id": "1wp01iBEekDG"
      },
      "outputs": [],
      "source": []
    }
  ],
  "metadata": {
    "accelerator": "GPU",
    "colab": {
      "gpuType": "T4",
      "provenance": []
    },
    "kernelspec": {
      "display_name": "Python 3",
      "name": "python3"
    },
    "language_info": {
      "name": "python"
    }
  },
  "nbformat": 4,
  "nbformat_minor": 0
}